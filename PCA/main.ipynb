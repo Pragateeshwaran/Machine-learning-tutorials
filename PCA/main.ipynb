{
 "cells": [
  {
   "cell_type": "code",
   "execution_count": 1,
   "metadata": {},
   "outputs": [
    {
     "name": "stdout",
     "output_type": "stream",
     "text": [
      "Original Data Accuracy: 0.9770989974937342\n",
      "PCA (All Components) Data Accuracy: 0.9770989974937342\n",
      "PCA (4 Components) Data Accuracy: 0.9578320802005011\n",
      "\n",
      "Comparison of Accuracies:\n",
      "Original Data Accuracy: 0.9771\n",
      "PCA (All Components) Data Accuracy: 0.9771\n",
      "PCA (4 Components) Data Accuracy: 0.9578\n"
     ]
    }
   ],
   "source": [
    "# Import necessary libraries\n",
    "import numpy as np\n",
    "from sklearn.datasets import load_breast_cancer\n",
    "from sklearn.decomposition import PCA\n",
    "from sklearn.model_selection import cross_val_score\n",
    "from sklearn.svm import SVC\n",
    "from sklearn.preprocessing import StandardScaler\n",
    "\n",
    "# Load the breast cancer dataset\n",
    "data = load_breast_cancer()\n",
    "X = data.data\n",
    "y = data.target\n",
    "\n",
    "# Standardize the data\n",
    "scaler = StandardScaler()\n",
    "X_scaled = scaler.fit_transform(X)\n",
    "\n",
    "# Initialize the SVM model\n",
    "svm = SVC(kernel='rbf', C=1.0)\n",
    "\n",
    "# 1. Evaluate SVM on original data\n",
    "original_scores = cross_val_score(svm, X_scaled, y, cv=10)\n",
    "print(\"Original Data Accuracy:\", np.mean(original_scores))\n",
    "\n",
    "# 2. Apply PCA and transform data with all components\n",
    "pca_all = PCA()\n",
    "X_pca_all = pca_all.fit_transform(X_scaled)\n",
    "pca_all_scores = cross_val_score(svm, X_pca_all, y, cv=10)\n",
    "print(\"PCA (All Components) Data Accuracy:\", np.mean(pca_all_scores))\n",
    "\n",
    "# 3. Apply PCA and transform data with 4 principal components\n",
    "pca_4 = PCA(n_components=4)\n",
    "X_pca_4 = pca_4.fit_transform(X_scaled)\n",
    "pca_4_scores = cross_val_score(svm, X_pca_4, y, cv=10)\n",
    "print(\"PCA (4 Components) Data Accuracy:\", np.mean(pca_4_scores))\n",
    "\n",
    "# Compare results\n",
    "print(\"\\nComparison of Accuracies:\")\n",
    "print(f\"Original Data Accuracy: {np.mean(original_scores):.4f}\")\n",
    "print(f\"PCA (All Components) Data Accuracy: {np.mean(pca_all_scores):.4f}\")\n",
    "print(f\"PCA (4 Components) Data Accuracy: {np.mean(pca_4_scores):.4f}\")\n"
   ]
  },
  {
   "cell_type": "code",
   "execution_count": 2,
   "metadata": {},
   "outputs": [
    {
     "data": {
      "text/plain": [
       "(569, 4)"
      ]
     },
     "execution_count": 2,
     "metadata": {},
     "output_type": "execute_result"
    }
   ],
   "source": [
    "X_pca_4.shape"
   ]
  },
  {
   "cell_type": "code",
   "execution_count": 3,
   "metadata": {},
   "outputs": [
    {
     "data": {
      "text/plain": [
       "(569, 30)"
      ]
     },
     "execution_count": 3,
     "metadata": {},
     "output_type": "execute_result"
    }
   ],
   "source": [
    "X_pca_all.shape"
   ]
  },
  {
   "cell_type": "code",
   "execution_count": 4,
   "metadata": {},
   "outputs": [
    {
     "data": {
      "text/plain": [
       "(569, 30)"
      ]
     },
     "execution_count": 4,
     "metadata": {},
     "output_type": "execute_result"
    }
   ],
   "source": [
    "X.shape"
   ]
  }
 ],
 "metadata": {
  "kernelspec": {
   "display_name": "tf",
   "language": "python",
   "name": "python3"
  },
  "language_info": {
   "codemirror_mode": {
    "name": "ipython",
    "version": 3
   },
   "file_extension": ".py",
   "mimetype": "text/x-python",
   "name": "python",
   "nbconvert_exporter": "python",
   "pygments_lexer": "ipython3",
   "version": "3.9.19"
  }
 },
 "nbformat": 4,
 "nbformat_minor": 2
}
