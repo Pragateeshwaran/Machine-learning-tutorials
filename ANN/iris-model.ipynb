{
 "cells": [
  {
   "cell_type": "code",
   "execution_count": 1,
   "metadata": {},
   "outputs": [],
   "source": [
    "import tensorflow as tf \n",
    "from sklearn.datasets import load_iris"
   ]
  },
  {
   "cell_type": "markdown",
   "metadata": {},
   "source": [
    "### At first we shall load the model\n"
   ]
  },
  {
   "cell_type": "code",
   "execution_count": 6,
   "metadata": {},
   "outputs": [
    {
     "data": {
      "text/plain": [
       "dict_keys(['data', 'target', 'frame', 'target_names', 'DESCR', 'feature_names', 'filename', 'data_module'])"
      ]
     },
     "execution_count": 6,
     "metadata": {},
     "output_type": "execute_result"
    }
   ],
   "source": [
    "load_iris().keys() #from this we can understand these are just dict with values "
   ]
  },
  {
   "cell_type": "code",
   "execution_count": null,
   "metadata": {},
   "outputs": [],
   "source": [
    "data = load_iris()[\"data\"] # extracting data X\n",
    "target = load_iris()['target'] # extracting Y \n",
    "target_names = load_iris()['target_names']"
   ]
  },
  {
   "cell_type": "code",
   "execution_count": 23,
   "metadata": {},
   "outputs": [
    {
     "data": {
      "text/plain": [
       "array([0, 0, 0, 0, 0, 0, 0, 0, 0, 0, 0, 0, 0, 0, 0, 0, 0, 0, 0, 0, 0, 0,\n",
       "       0, 0, 0, 0, 0, 0, 0, 0, 0, 0, 0, 0, 0, 0, 0, 0, 0, 0, 0, 0, 0, 0,\n",
       "       0, 0, 0, 0, 0, 0, 1, 1, 1, 1, 1, 1, 1, 1, 1, 1, 1, 1, 1, 1, 1, 1,\n",
       "       1, 1, 1, 1, 1, 1, 1, 1, 1, 1, 1, 1, 1, 1, 1, 1, 1, 1, 1, 1, 1, 1,\n",
       "       1, 1, 1, 1, 1, 1, 1, 1, 1, 1, 1, 1, 2, 2, 2, 2, 2, 2, 2, 2, 2, 2,\n",
       "       2, 2, 2, 2, 2, 2, 2, 2, 2, 2, 2, 2, 2, 2, 2, 2, 2, 2, 2, 2, 2, 2,\n",
       "       2, 2, 2, 2, 2, 2, 2, 2, 2, 2, 2, 2, 2, 2, 2, 2, 2, 2])"
      ]
     },
     "execution_count": 23,
     "metadata": {},
     "output_type": "execute_result"
    }
   ],
   "source": [
    "target"
   ]
  },
  {
   "cell_type": "code",
   "execution_count": null,
   "metadata": {},
   "outputs": [
    {
     "data": {
      "text/plain": [
       "array(['setosa', 'versicolor', 'virginica'], dtype='<U10')"
      ]
     },
     "execution_count": 19,
     "metadata": {},
     "output_type": "execute_result"
    }
   ],
   "source": [
    "target_names "
   ]
  },
  {
   "cell_type": "code",
   "execution_count": null,
   "metadata": {},
   "outputs": [
    {
     "data": {
      "text/plain": [
       "(150, 4)"
      ]
     },
     "execution_count": 21,
     "metadata": {},
     "output_type": "execute_result"
    }
   ],
   "source": [
    "data.shape # here we can see that there are 4 fields so the first layer should have 4 neurons (first layer means input layer)"
   ]
  },
  {
   "cell_type": "code",
   "execution_count": 29,
   "metadata": {},
   "outputs": [],
   "source": [
    "from sklearn.model_selection import train_test_split \n",
    "X_train, X_val, Y_train, Y_val = train_test_split(data, target, train_size=0.8)"
   ]
  },
  {
   "cell_type": "markdown",
   "metadata": {},
   "source": [
    "### Lets build our model"
   ]
  },
  {
   "cell_type": "code",
   "execution_count": 24,
   "metadata": {},
   "outputs": [],
   "source": [
    "model = tf.keras.Sequential([                   # sequential is like sandwich bread that consist of all neurons inside it \n",
    "            tf.keras.layers.Dense(units=1024, activation= \"relu\", input_dim = data.shape[1] ), # mostly stick with relu \n",
    "            tf.keras.layers.Dense(units= 1024, activation= \"relu\"), \n",
    "            tf.keras.layers.Dense(units=3, activation=\"softmax\") # softmax is used to give prob values for all 3 neurons\n",
    "])"
   ]
  },
  {
   "cell_type": "code",
   "execution_count": 26,
   "metadata": {},
   "outputs": [
    {
     "name": "stdout",
     "output_type": "stream",
     "text": [
      "Model: \"sequential_1\"\n",
      "_________________________________________________________________\n",
      " Layer (type)                Output Shape              Param #   \n",
      "=================================================================\n",
      " dense (Dense)               (None, 1024)              5120      \n",
      "                                                                 \n",
      " dense_1 (Dense)             (None, 1024)              1049600   \n",
      "                                                                 \n",
      " dense_2 (Dense)             (None, 3)                 3075      \n",
      "                                                                 \n",
      "=================================================================\n",
      "Total params: 1,057,795\n",
      "Trainable params: 1,057,795\n",
      "Non-trainable params: 0\n",
      "_________________________________________________________________\n"
     ]
    }
   ],
   "source": [
    "model.summary() # to see our model"
   ]
  },
  {
   "cell_type": "code",
   "execution_count": null,
   "metadata": {},
   "outputs": [],
   "source": [
    "model.compile(loss=\"sparse_categorical_crossentropy\", optimizer=\"Adam\", metrics= [\"accuracy\"])  \n",
    "# for label encoding use sparse_categorical, for one hot use categorical_crossentropy, for 2 target use binary_crossentropy, for regression use mse \n",
    "# optimizer is used for backprop use ADAM it is og optimizer \n",
    "# metrics is the one that u see in the training time (eg.., loss: 0.0763 - accuracy: 0.9667 - val_loss: 0.0193 - val_accuracy: 1.0000)"
   ]
  },
  {
   "cell_type": "code",
   "execution_count": null,
   "metadata": {},
   "outputs": [
    {
     "name": "stdout",
     "output_type": "stream",
     "text": [
      "Epoch 1/100\n",
      "2/2 [==============================] - 0s 54ms/step - loss: 0.0626 - accuracy: 0.9833 - val_loss: 0.0633 - val_accuracy: 0.9667\n",
      "Epoch 2/100\n",
      "2/2 [==============================] - 0s 30ms/step - loss: 0.0684 - accuracy: 0.9667 - val_loss: 0.0366 - val_accuracy: 0.9667\n",
      "Epoch 3/100\n",
      "2/2 [==============================] - 0s 34ms/step - loss: 0.0573 - accuracy: 0.9750 - val_loss: 0.0191 - val_accuracy: 1.0000\n",
      "Epoch 4/100\n",
      "2/2 [==============================] - 0s 36ms/step - loss: 0.0679 - accuracy: 0.9750 - val_loss: 0.0242 - val_accuracy: 1.0000\n",
      "Epoch 5/100\n",
      "2/2 [==============================] - 0s 35ms/step - loss: 0.0588 - accuracy: 0.9750 - val_loss: 0.0580 - val_accuracy: 0.9667\n",
      "Epoch 6/100\n",
      "2/2 [==============================] - 0s 26ms/step - loss: 0.0668 - accuracy: 0.9750 - val_loss: 0.0308 - val_accuracy: 0.9667\n",
      "Epoch 7/100\n",
      "2/2 [==============================] - 0s 32ms/step - loss: 0.0568 - accuracy: 0.9833 - val_loss: 0.0224 - val_accuracy: 1.0000\n",
      "Epoch 8/100\n",
      "2/2 [==============================] - 0s 33ms/step - loss: 0.0577 - accuracy: 0.9750 - val_loss: 0.0209 - val_accuracy: 1.0000\n",
      "Epoch 9/100\n",
      "2/2 [==============================] - 0s 29ms/step - loss: 0.0585 - accuracy: 0.9750 - val_loss: 0.0310 - val_accuracy: 0.9667\n",
      "Epoch 10/100\n",
      "2/2 [==============================] - 0s 32ms/step - loss: 0.0558 - accuracy: 0.9750 - val_loss: 0.0360 - val_accuracy: 0.9667\n",
      "Epoch 11/100\n",
      "2/2 [==============================] - 0s 36ms/step - loss: 0.0577 - accuracy: 0.9833 - val_loss: 0.0326 - val_accuracy: 0.9667\n",
      "Epoch 12/100\n",
      "2/2 [==============================] - 0s 30ms/step - loss: 0.0603 - accuracy: 0.9833 - val_loss: 0.0185 - val_accuracy: 1.0000\n",
      "Epoch 13/100\n",
      "2/2 [==============================] - 0s 33ms/step - loss: 0.0590 - accuracy: 0.9750 - val_loss: 0.0285 - val_accuracy: 0.9667\n",
      "Epoch 14/100\n",
      "2/2 [==============================] - 0s 41ms/step - loss: 0.0558 - accuracy: 0.9833 - val_loss: 0.0455 - val_accuracy: 0.9667\n",
      "Epoch 15/100\n",
      "2/2 [==============================] - 0s 34ms/step - loss: 0.0640 - accuracy: 0.9833 - val_loss: 0.0289 - val_accuracy: 0.9667\n",
      "Epoch 16/100\n",
      "2/2 [==============================] - 0s 24ms/step - loss: 0.0632 - accuracy: 0.9750 - val_loss: 0.0148 - val_accuracy: 1.0000\n",
      "Epoch 17/100\n",
      "2/2 [==============================] - 0s 26ms/step - loss: 0.0667 - accuracy: 0.9750 - val_loss: 0.0359 - val_accuracy: 0.9667\n",
      "Epoch 18/100\n",
      "2/2 [==============================] - 0s 25ms/step - loss: 0.0739 - accuracy: 0.9750 - val_loss: 0.0418 - val_accuracy: 0.9667\n",
      "Epoch 19/100\n",
      "2/2 [==============================] - 0s 24ms/step - loss: 0.0529 - accuracy: 0.9750 - val_loss: 0.0169 - val_accuracy: 1.0000\n",
      "Epoch 20/100\n",
      "2/2 [==============================] - 0s 25ms/step - loss: 0.0632 - accuracy: 0.9750 - val_loss: 0.0168 - val_accuracy: 1.0000\n",
      "Epoch 21/100\n",
      "2/2 [==============================] - 0s 24ms/step - loss: 0.0571 - accuracy: 0.9750 - val_loss: 0.0382 - val_accuracy: 0.9667\n",
      "Epoch 22/100\n",
      "2/2 [==============================] - 0s 23ms/step - loss: 0.0613 - accuracy: 0.9833 - val_loss: 0.0466 - val_accuracy: 0.9667\n",
      "Epoch 23/100\n",
      "2/2 [==============================] - 0s 24ms/step - loss: 0.0563 - accuracy: 0.9833 - val_loss: 0.0188 - val_accuracy: 1.0000\n",
      "Epoch 24/100\n",
      "2/2 [==============================] - 0s 24ms/step - loss: 0.0585 - accuracy: 0.9750 - val_loss: 0.0177 - val_accuracy: 1.0000\n",
      "Epoch 25/100\n",
      "2/2 [==============================] - 0s 25ms/step - loss: 0.0588 - accuracy: 0.9750 - val_loss: 0.0265 - val_accuracy: 0.9667\n",
      "Epoch 26/100\n",
      "2/2 [==============================] - 0s 24ms/step - loss: 0.0556 - accuracy: 0.9833 - val_loss: 0.0435 - val_accuracy: 0.9667\n",
      "Epoch 27/100\n",
      "2/2 [==============================] - 0s 23ms/step - loss: 0.0630 - accuracy: 0.9833 - val_loss: 0.0352 - val_accuracy: 0.9667\n",
      "Epoch 28/100\n",
      "2/2 [==============================] - 0s 23ms/step - loss: 0.0522 - accuracy: 0.9833 - val_loss: 0.0166 - val_accuracy: 1.0000\n",
      "Epoch 29/100\n",
      "2/2 [==============================] - 0s 23ms/step - loss: 0.0598 - accuracy: 0.9750 - val_loss: 0.0182 - val_accuracy: 1.0000\n",
      "Epoch 30/100\n",
      "2/2 [==============================] - 0s 25ms/step - loss: 0.0561 - accuracy: 0.9750 - val_loss: 0.0344 - val_accuracy: 0.9667\n",
      "Epoch 31/100\n",
      "2/2 [==============================] - 0s 27ms/step - loss: 0.0672 - accuracy: 0.9750 - val_loss: 0.0398 - val_accuracy: 0.9667\n",
      "Epoch 32/100\n",
      "2/2 [==============================] - 0s 28ms/step - loss: 0.0542 - accuracy: 0.9833 - val_loss: 0.0149 - val_accuracy: 1.0000\n",
      "Epoch 33/100\n",
      "2/2 [==============================] - 0s 30ms/step - loss: 0.0775 - accuracy: 0.9750 - val_loss: 0.0169 - val_accuracy: 1.0000\n",
      "Epoch 34/100\n",
      "2/2 [==============================] - 0s 25ms/step - loss: 0.0617 - accuracy: 0.9750 - val_loss: 0.0764 - val_accuracy: 0.9667\n",
      "Epoch 35/100\n",
      "2/2 [==============================] - 0s 26ms/step - loss: 0.0819 - accuracy: 0.9500 - val_loss: 0.0388 - val_accuracy: 0.9667\n",
      "Epoch 36/100\n",
      "2/2 [==============================] - 0s 26ms/step - loss: 0.0513 - accuracy: 0.9750 - val_loss: 0.0111 - val_accuracy: 1.0000\n",
      "Epoch 37/100\n",
      "2/2 [==============================] - 0s 34ms/step - loss: 0.0726 - accuracy: 0.9750 - val_loss: 0.0160 - val_accuracy: 1.0000\n",
      "Epoch 38/100\n",
      "2/2 [==============================] - 0s 29ms/step - loss: 0.0638 - accuracy: 0.9750 - val_loss: 0.0551 - val_accuracy: 0.9667\n",
      "Epoch 39/100\n",
      "2/2 [==============================] - 0s 29ms/step - loss: 0.0661 - accuracy: 0.9750 - val_loss: 0.0349 - val_accuracy: 0.9667\n",
      "Epoch 40/100\n",
      "2/2 [==============================] - 0s 33ms/step - loss: 0.0523 - accuracy: 0.9833 - val_loss: 0.0121 - val_accuracy: 1.0000\n",
      "Epoch 41/100\n",
      "2/2 [==============================] - 0s 27ms/step - loss: 0.0715 - accuracy: 0.9750 - val_loss: 0.0162 - val_accuracy: 1.0000\n",
      "Epoch 42/100\n",
      "2/2 [==============================] - 0s 25ms/step - loss: 0.0580 - accuracy: 0.9750 - val_loss: 0.0642 - val_accuracy: 0.9667\n",
      "Epoch 43/100\n",
      "2/2 [==============================] - 0s 27ms/step - loss: 0.0823 - accuracy: 0.9667 - val_loss: 0.0466 - val_accuracy: 0.9667\n",
      "Epoch 44/100\n",
      "2/2 [==============================] - 0s 26ms/step - loss: 0.0470 - accuracy: 0.9833 - val_loss: 0.0115 - val_accuracy: 1.0000\n",
      "Epoch 45/100\n",
      "2/2 [==============================] - 0s 26ms/step - loss: 0.0768 - accuracy: 0.9750 - val_loss: 0.0105 - val_accuracy: 1.0000\n",
      "Epoch 46/100\n",
      "2/2 [==============================] - 0s 26ms/step - loss: 0.0663 - accuracy: 0.9750 - val_loss: 0.0500 - val_accuracy: 0.9667\n",
      "Epoch 47/100\n",
      "2/2 [==============================] - 0s 25ms/step - loss: 0.0909 - accuracy: 0.9583 - val_loss: 0.0591 - val_accuracy: 0.9667\n",
      "Epoch 48/100\n",
      "2/2 [==============================] - 0s 25ms/step - loss: 0.0693 - accuracy: 0.9750 - val_loss: 0.0117 - val_accuracy: 1.0000\n",
      "Epoch 49/100\n",
      "2/2 [==============================] - 0s 25ms/step - loss: 0.0727 - accuracy: 0.9750 - val_loss: 0.0172 - val_accuracy: 1.0000\n",
      "Epoch 50/100\n",
      "2/2 [==============================] - 0s 28ms/step - loss: 0.0618 - accuracy: 0.9750 - val_loss: 0.0456 - val_accuracy: 0.9667\n",
      "Epoch 51/100\n",
      "2/2 [==============================] - 0s 25ms/step - loss: 0.0589 - accuracy: 0.9833 - val_loss: 0.0464 - val_accuracy: 0.9667\n",
      "Epoch 52/100\n",
      "2/2 [==============================] - 0s 24ms/step - loss: 0.0585 - accuracy: 0.9750 - val_loss: 0.0198 - val_accuracy: 1.0000\n",
      "Epoch 53/100\n",
      "2/2 [==============================] - 0s 26ms/step - loss: 0.0606 - accuracy: 0.9750 - val_loss: 0.0199 - val_accuracy: 1.0000\n",
      "Epoch 54/100\n",
      "2/2 [==============================] - 0s 27ms/step - loss: 0.0653 - accuracy: 0.9750 - val_loss: 0.0418 - val_accuracy: 0.9667\n",
      "Epoch 55/100\n",
      "2/2 [==============================] - 0s 24ms/step - loss: 0.0566 - accuracy: 0.9833 - val_loss: 0.0238 - val_accuracy: 1.0000\n",
      "Epoch 56/100\n",
      "2/2 [==============================] - 0s 28ms/step - loss: 0.0546 - accuracy: 0.9750 - val_loss: 0.0157 - val_accuracy: 1.0000\n",
      "Epoch 57/100\n",
      "2/2 [==============================] - 0s 23ms/step - loss: 0.0613 - accuracy: 0.9750 - val_loss: 0.0291 - val_accuracy: 0.9667\n",
      "Epoch 58/100\n",
      "2/2 [==============================] - 0s 25ms/step - loss: 0.0600 - accuracy: 0.9833 - val_loss: 0.0362 - val_accuracy: 0.9667\n",
      "Epoch 59/100\n",
      "2/2 [==============================] - 0s 26ms/step - loss: 0.0544 - accuracy: 0.9833 - val_loss: 0.0198 - val_accuracy: 1.0000\n",
      "Epoch 60/100\n",
      "2/2 [==============================] - 0s 25ms/step - loss: 0.0559 - accuracy: 0.9750 - val_loss: 0.0225 - val_accuracy: 1.0000\n",
      "Epoch 61/100\n",
      "2/2 [==============================] - 0s 26ms/step - loss: 0.0529 - accuracy: 0.9750 - val_loss: 0.0366 - val_accuracy: 0.9667\n",
      "Epoch 62/100\n",
      "2/2 [==============================] - 0s 29ms/step - loss: 0.0553 - accuracy: 0.9833 - val_loss: 0.0449 - val_accuracy: 0.9667\n",
      "Epoch 63/100\n",
      "2/2 [==============================] - 0s 32ms/step - loss: 0.0581 - accuracy: 0.9833 - val_loss: 0.0241 - val_accuracy: 1.0000\n",
      "Epoch 64/100\n",
      "2/2 [==============================] - 0s 26ms/step - loss: 0.0533 - accuracy: 0.9833 - val_loss: 0.0229 - val_accuracy: 1.0000\n",
      "Epoch 65/100\n",
      "2/2 [==============================] - 0s 24ms/step - loss: 0.0525 - accuracy: 0.9750 - val_loss: 0.0302 - val_accuracy: 0.9667\n",
      "Epoch 66/100\n",
      "2/2 [==============================] - 0s 24ms/step - loss: 0.0524 - accuracy: 0.9833 - val_loss: 0.0320 - val_accuracy: 0.9667\n",
      "Epoch 67/100\n",
      "2/2 [==============================] - 0s 25ms/step - loss: 0.0527 - accuracy: 0.9833 - val_loss: 0.0283 - val_accuracy: 0.9667\n",
      "Epoch 68/100\n",
      "2/2 [==============================] - 0s 38ms/step - loss: 0.0531 - accuracy: 0.9750 - val_loss: 0.0284 - val_accuracy: 0.9667\n",
      "Epoch 69/100\n",
      "2/2 [==============================] - 0s 33ms/step - loss: 0.0523 - accuracy: 0.9833 - val_loss: 0.0339 - val_accuracy: 0.9667\n",
      "Epoch 70/100\n",
      "2/2 [==============================] - 0s 30ms/step - loss: 0.0531 - accuracy: 0.9833 - val_loss: 0.0301 - val_accuracy: 0.9667\n",
      "Epoch 71/100\n",
      "2/2 [==============================] - 0s 36ms/step - loss: 0.0523 - accuracy: 0.9833 - val_loss: 0.0231 - val_accuracy: 1.0000\n",
      "Epoch 72/100\n",
      "2/2 [==============================] - 0s 33ms/step - loss: 0.0694 - accuracy: 0.9667 - val_loss: 0.0180 - val_accuracy: 1.0000\n",
      "Epoch 73/100\n",
      "2/2 [==============================] - 0s 33ms/step - loss: 0.0520 - accuracy: 0.9750 - val_loss: 0.0441 - val_accuracy: 0.9667\n",
      "Epoch 74/100\n",
      "2/2 [==============================] - 0s 37ms/step - loss: 0.0569 - accuracy: 0.9833 - val_loss: 0.0358 - val_accuracy: 0.9667\n",
      "Epoch 75/100\n",
      "2/2 [==============================] - 0s 32ms/step - loss: 0.0532 - accuracy: 0.9833 - val_loss: 0.0230 - val_accuracy: 1.0000\n",
      "Epoch 76/100\n",
      "2/2 [==============================] - 0s 31ms/step - loss: 0.0594 - accuracy: 0.9750 - val_loss: 0.0145 - val_accuracy: 1.0000\n",
      "Epoch 77/100\n",
      "2/2 [==============================] - 0s 24ms/step - loss: 0.0559 - accuracy: 0.9833 - val_loss: 0.0343 - val_accuracy: 0.9667\n",
      "Epoch 78/100\n",
      "2/2 [==============================] - 0s 26ms/step - loss: 0.0507 - accuracy: 0.9833 - val_loss: 0.0543 - val_accuracy: 0.9667\n",
      "Epoch 79/100\n",
      "2/2 [==============================] - 0s 26ms/step - loss: 0.0580 - accuracy: 0.9833 - val_loss: 0.0359 - val_accuracy: 0.9667\n",
      "Epoch 80/100\n",
      "2/2 [==============================] - 0s 25ms/step - loss: 0.0511 - accuracy: 0.9833 - val_loss: 0.0206 - val_accuracy: 1.0000\n",
      "Epoch 81/100\n",
      "2/2 [==============================] - 0s 25ms/step - loss: 0.0535 - accuracy: 0.9750 - val_loss: 0.0211 - val_accuracy: 1.0000\n",
      "Epoch 82/100\n",
      "2/2 [==============================] - 0s 27ms/step - loss: 0.0523 - accuracy: 0.9750 - val_loss: 0.0300 - val_accuracy: 0.9667\n",
      "Epoch 83/100\n",
      "2/2 [==============================] - 0s 25ms/step - loss: 0.0515 - accuracy: 0.9833 - val_loss: 0.0346 - val_accuracy: 0.9667\n",
      "Epoch 84/100\n",
      "2/2 [==============================] - 0s 24ms/step - loss: 0.0520 - accuracy: 0.9833 - val_loss: 0.0270 - val_accuracy: 0.9667\n",
      "Epoch 85/100\n",
      "2/2 [==============================] - 0s 24ms/step - loss: 0.0517 - accuracy: 0.9833 - val_loss: 0.0239 - val_accuracy: 1.0000\n",
      "Epoch 86/100\n",
      "2/2 [==============================] - 0s 23ms/step - loss: 0.0514 - accuracy: 0.9833 - val_loss: 0.0227 - val_accuracy: 1.0000\n",
      "Epoch 87/100\n",
      "2/2 [==============================] - 0s 23ms/step - loss: 0.0545 - accuracy: 0.9833 - val_loss: 0.0235 - val_accuracy: 1.0000\n",
      "Epoch 88/100\n",
      "2/2 [==============================] - 0s 24ms/step - loss: 0.0516 - accuracy: 0.9833 - val_loss: 0.0423 - val_accuracy: 0.9667\n",
      "Epoch 89/100\n",
      "2/2 [==============================] - 0s 28ms/step - loss: 0.0557 - accuracy: 0.9833 - val_loss: 0.0302 - val_accuracy: 0.9667\n",
      "Epoch 90/100\n",
      "2/2 [==============================] - 0s 26ms/step - loss: 0.0507 - accuracy: 0.9833 - val_loss: 0.0283 - val_accuracy: 0.9667\n",
      "Epoch 91/100\n",
      "2/2 [==============================] - 0s 26ms/step - loss: 0.0512 - accuracy: 0.9833 - val_loss: 0.0291 - val_accuracy: 0.9667\n",
      "Epoch 92/100\n",
      "2/2 [==============================] - 0s 35ms/step - loss: 0.0539 - accuracy: 0.9833 - val_loss: 0.0287 - val_accuracy: 0.9667\n",
      "Epoch 93/100\n",
      "2/2 [==============================] - 0s 33ms/step - loss: 0.0511 - accuracy: 0.9833 - val_loss: 0.0220 - val_accuracy: 1.0000\n",
      "Epoch 94/100\n",
      "2/2 [==============================] - 0s 26ms/step - loss: 0.0521 - accuracy: 0.9750 - val_loss: 0.0195 - val_accuracy: 1.0000\n",
      "Epoch 95/100\n",
      "2/2 [==============================] - 0s 25ms/step - loss: 0.0516 - accuracy: 0.9833 - val_loss: 0.0290 - val_accuracy: 0.9667\n",
      "Epoch 96/100\n",
      "2/2 [==============================] - 0s 25ms/step - loss: 0.0546 - accuracy: 0.9833 - val_loss: 0.0412 - val_accuracy: 0.9667\n",
      "Epoch 97/100\n",
      "2/2 [==============================] - 0s 28ms/step - loss: 0.0533 - accuracy: 0.9833 - val_loss: 0.0223 - val_accuracy: 1.0000\n",
      "Epoch 98/100\n",
      "2/2 [==============================] - 0s 26ms/step - loss: 0.0624 - accuracy: 0.9750 - val_loss: 0.0194 - val_accuracy: 1.0000\n",
      "Epoch 99/100\n",
      "2/2 [==============================] - 0s 27ms/step - loss: 0.0498 - accuracy: 0.9833 - val_loss: 0.0477 - val_accuracy: 0.9667\n",
      "Epoch 100/100\n",
      "2/2 [==============================] - 0s 29ms/step - loss: 0.0555 - accuracy: 0.9833 - val_loss: 0.0395 - val_accuracy: 0.9667\n"
     ]
    }
   ],
   "source": [
    "hist = model.fit(X_train, Y_train, validation_data= (X_val, Y_val), epochs=100, batch_size=(64)) \n",
    "\n",
    "# epochs - one complete cycle of dataset\n",
    "# batch - Many batchs gives one epochs \n",
    "\n",
    "# consider if dataset have 640 rows of data and batch size is 64 \n",
    "# so now there are 10 batches to complete one epochs \n",
    "# when one epochs is done the model is trained with 640 rows on second epoch same 640 rows is used "
   ]
  },
  {
   "cell_type": "code",
   "execution_count": 44,
   "metadata": {},
   "outputs": [
    {
     "data": {
      "image/png": "[encoded data removed]",
      "text/plain": [
       "<Figure size 640x480 with 1 Axes>"
      ]
     },
     "metadata": {},
     "output_type": "display_data"
    }
   ],
   "source": [
    "import matplotlib.pyplot as plt\n",
    "plt.plot(hist.history['loss'], label='Train Loss')\n",
    "plt.plot(hist.history.get('val_loss'), label='Val Loss')\n",
    "plt.plot(hist.history['accuracy'], label='Train Acc')\n",
    "plt.plot(hist.history.get('val_accuracy'), label='Val Acc')\n",
    "plt.legend()\n",
    "plt.show()\n"
   ]
  },
  {
   "cell_type": "code",
   "execution_count": 33,
   "metadata": {},
   "outputs": [
    {
     "data": {
      "text/plain": [
       "(array([5.4, 3. , 4.5, 1.5]), 1)"
      ]
     },
     "execution_count": 33,
     "metadata": {},
     "output_type": "execute_result"
    }
   ],
   "source": [
    "X_train[0], Y_train[0]"
   ]
  },
  {
   "cell_type": "code",
   "execution_count": 39,
   "metadata": {},
   "outputs": [
    {
     "name": "stdout",
     "output_type": "stream",
     "text": [
      "1/1 [==============================] - 0s 31ms/step\n",
      "the result for X_train[0] is versicolor\n"
     ]
    }
   ],
   "source": [
    "import numpy as np \n",
    "val = model.predict([[5.4, 3. , 4.5, 1.5]])\n",
    "index = np.argmax(val)\n",
    "print(f\"the result for X_train[0] is {target_names[index]}\")"
   ]
  }
 ],
 "metadata": {
  "kernelspec": {
   "display_name": "tf",
   "language": "python",
   "name": "python3"
  },
  "language_info": {
   "codemirror_mode": {
    "name": "ipython",
    "version": 3
   },
   "file_extension": ".py",
   "mimetype": "text/x-python",
   "name": "python",
   "nbconvert_exporter": "python",
   "pygments_lexer": "ipython3",
   "version": "3.9.19"
  }
 },
 "nbformat": 4,
 "nbformat_minor": 2
}
